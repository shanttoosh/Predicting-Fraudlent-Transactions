{
 "cells": [
  {
   "cell_type": "markdown",
   "id": "vwOFwcDaFeJO",
   "metadata": {
    "id": "vwOFwcDaFeJO"
   },
   "source": [
    "# Introduction\n",
    "This document outlines the process of building a Predecting Fraudulent Transactions model using a Random Forest classifier and XGBoost, incorporating data preprocessing, feature engineering, hyperparameter tuning, and model evaluation. \n",
    "\n",
    "## Data Cleaning\n",
    "\n",
    "- **Missing Values:** No missing values were found in the dataset.\n",
    "- **Outliers:** Outliers in numerical features were handled using winsorization to cap extreme values.\n",
    "- **Multicollinearity:** High correlation between `log_oldbalanceDest` and `log_newbalanceDest` was identified using VIF. `log_oldbalanceDest` was removed to address this.\n",
    "\n",
    "## Fraud Detection Model\n",
    "\n",
    "- **XGBoost:** A XGBoost classifier was used as the primary model, demonstrating strong performance in fraud detection.\n",
    "- **Hyperparameter Tuning:** RandomizedSearchCV was employed to optimize hyperparameters for improved accuracy.\n",
    "- **Class Imbalance:**\n",
    "SMOTE was applied to address class imbalance by oversampling the minority class (fraudulent transactions).\n",
    "\n",
    "\n",
    "\n",
    "## Variable Selection\n",
    "\n",
    "- **Feature Importance:** The model identified `log_oldbalanceOrg` and `log_amount` as the most significant predictors of fraud.\n",
    "- **Multicollinearity:** `log_oldbalanceDest` was removed due to its high correlation with `log_newbalanceDest`.\n",
    "\n",
    "## Model Performance\n",
    "\n",
    "- **Accuracy:** 0.9996\n",
    "- **Precision:** 0.7961\n",
    "- **Recall:** 0.9302\n",
    "- **F1-score:** 0.8579\n",
    "- **AUC-ROC:** 0.9649\n",
    "\n",
    "## Key Factors Predicting Fraud\n",
    "\n",
    "- **Account Balance Changes:** Changes in account balances, as captured by `log_oldbalanceOrg`, are strong indicators of fraud.\n",
    "- **Transaction Amounts:** Unusual transaction amounts, as represented by `log_amount`, are also significant predictors.\n",
    "\n",
    "## Factor Analysis\n",
    "\n",
    "- The identified factors align with common fraud patterns, making them reasonable predictors.\n",
    "\n",
    "## Prevention Measures\n",
    "\n",
    "- **Real-time Monitoring:** Continuously monitor account activity for suspicious patterns.\n",
    "- **Behavioral Analytics:** Analyze customer behavior to detect anomalies.\n",
    "- **Education and Awareness:** Educate customers about fraud prevention.\n",
    "- **Technology-Based Solutions:** Employ advanced fraud detection techniques and update security regularly.\n",
    "\n",
    "## Determining Effectiveness\n",
    "\n",
    "- Track fraud rates, false positives, customer satisfaction, and conduct regular audits to evaluate the effectiveness of prevention measures.\n",
    "\n",
    "\n",
    "## Conclusion\n",
    "The Random Forest classifier, coupled with data preprocessing and hyperparameter tuning, effectively detected fraudulent transactions in the given dataset.The XGBoost model outperforms the Random Forest model in terms of most metrics, showing higher accuracy, precision, recall, and AUC-ROC score. These metrics indicate that the XGBoost model is highly effective in detecting fraudulent transactions with fewer false positives and false negatives compared to the Random Forest model.The identified key factors, such as account balance changes and transaction amounts, can be used to guide fraud prevention efforts. By implementing the recommended prevention measures, organizations can strengthen their fraud detection capabilities and protect their customers.\n",
    "\n",
    "\n"
   ]
  },
  {
   "cell_type": "markdown",
   "id": "GNG6U1Z9qM39",
   "metadata": {
    "id": "GNG6U1Z9qM39"
   },
   "source": [
    "***IMPORT NECCESSARY LIBRARIES***"
   ]
  },
  {
   "cell_type": "code",
   "execution_count": null,
   "id": "d4951ffb-3d9a-4046-a68f-f1003ae84d2f",
   "metadata": {
    "id": "d4951ffb-3d9a-4046-a68f-f1003ae84d2f"
   },
   "outputs": [],
   "source": [
    "import numpy as np\n",
    "import pandas as pd\n",
    "import matplotlib.pyplot as plt\n",
    "import seaborn as sns\n",
    "from scipy.stats import mstats\n",
    "from imblearn.over_sampling import SMOTE\n",
    "from sklearn.model_selection import train_test_split\n",
    "from sklearn.preprocessing import StandardScaler\n",
    "from sklearn import preprocessing\n",
    "from sklearn import metrics\n",
    "from sklearn.ensemble import RandomForestClassifier\n",
    "from xgboost import XGBClassifier\n",
    "from sklearn.metrics import classification_report, roc_auc_score, precision_recall_curve, accuracy_score, precision_score, recall_score, f1_score\n",
    "from sklearn.model_selection import RandomizedSearchCV\n",
    "from imblearn.under_sampling import RandomUnderSampler\n",
    "from statsmodels.stats.outliers_influence import variance_inflation_factor"
   ]
  },
  {
   "cell_type": "markdown",
   "id": "64FYM23xqXzl",
   "metadata": {
    "id": "64FYM23xqXzl"
   },
   "source": [
    "***LOAD*** ***DATASET***"
   ]
  },
  {
   "cell_type": "code",
   "execution_count": null,
   "id": "2fb15051-d23d-458e-950b-95e4232fb7b8",
   "metadata": {
    "id": "2fb15051-d23d-458e-950b-95e4232fb7b8"
   },
   "outputs": [],
   "source": [
    "df = pd.read_csv(\"Fraud.csv\")"
   ]
  },
  {
   "cell_type": "code",
   "execution_count": null,
   "id": "006476f2-ecbf-4d81-a4e2-47c80dd0a76c",
   "metadata": {
    "id": "006476f2-ecbf-4d81-a4e2-47c80dd0a76c",
    "outputId": "b8e3e257-d581-4ad2-dfef-cdb9d000761f"
   },
   "outputs": [
    {
     "data": {
      "text/html": [
       "<div>\n",
       "<style scoped>\n",
       "    .dataframe tbody tr th:only-of-type {\n",
       "        vertical-align: middle;\n",
       "    }\n",
       "\n",
       "    .dataframe tbody tr th {\n",
       "        vertical-align: top;\n",
       "    }\n",
       "\n",
       "    .dataframe thead th {\n",
       "        text-align: right;\n",
       "    }\n",
       "</style>\n",
       "<table border=\"1\" class=\"dataframe\">\n",
       "  <thead>\n",
       "    <tr style=\"text-align: right;\">\n",
       "      <th></th>\n",
       "      <th>step</th>\n",
       "      <th>type</th>\n",
       "      <th>amount</th>\n",
       "      <th>nameOrig</th>\n",
       "      <th>oldbalanceOrg</th>\n",
       "      <th>newbalanceOrig</th>\n",
       "      <th>nameDest</th>\n",
       "      <th>oldbalanceDest</th>\n",
       "      <th>newbalanceDest</th>\n",
       "      <th>isFraud</th>\n",
       "      <th>isFlaggedFraud</th>\n",
       "    </tr>\n",
       "  </thead>\n",
       "  <tbody>\n",
       "    <tr>\n",
       "      <th>0</th>\n",
       "      <td>1</td>\n",
       "      <td>PAYMENT</td>\n",
       "      <td>9839.64</td>\n",
       "      <td>C1231006815</td>\n",
       "      <td>170136.0</td>\n",
       "      <td>160296.36</td>\n",
       "      <td>M1979787155</td>\n",
       "      <td>0.0</td>\n",
       "      <td>0.0</td>\n",
       "      <td>0</td>\n",
       "      <td>0</td>\n",
       "    </tr>\n",
       "    <tr>\n",
       "      <th>1</th>\n",
       "      <td>1</td>\n",
       "      <td>PAYMENT</td>\n",
       "      <td>1864.28</td>\n",
       "      <td>C1666544295</td>\n",
       "      <td>21249.0</td>\n",
       "      <td>19384.72</td>\n",
       "      <td>M2044282225</td>\n",
       "      <td>0.0</td>\n",
       "      <td>0.0</td>\n",
       "      <td>0</td>\n",
       "      <td>0</td>\n",
       "    </tr>\n",
       "    <tr>\n",
       "      <th>2</th>\n",
       "      <td>1</td>\n",
       "      <td>TRANSFER</td>\n",
       "      <td>181.00</td>\n",
       "      <td>C1305486145</td>\n",
       "      <td>181.0</td>\n",
       "      <td>0.00</td>\n",
       "      <td>C553264065</td>\n",
       "      <td>0.0</td>\n",
       "      <td>0.0</td>\n",
       "      <td>1</td>\n",
       "      <td>0</td>\n",
       "    </tr>\n",
       "    <tr>\n",
       "      <th>3</th>\n",
       "      <td>1</td>\n",
       "      <td>CASH_OUT</td>\n",
       "      <td>181.00</td>\n",
       "      <td>C840083671</td>\n",
       "      <td>181.0</td>\n",
       "      <td>0.00</td>\n",
       "      <td>C38997010</td>\n",
       "      <td>21182.0</td>\n",
       "      <td>0.0</td>\n",
       "      <td>1</td>\n",
       "      <td>0</td>\n",
       "    </tr>\n",
       "    <tr>\n",
       "      <th>4</th>\n",
       "      <td>1</td>\n",
       "      <td>PAYMENT</td>\n",
       "      <td>11668.14</td>\n",
       "      <td>C2048537720</td>\n",
       "      <td>41554.0</td>\n",
       "      <td>29885.86</td>\n",
       "      <td>M1230701703</td>\n",
       "      <td>0.0</td>\n",
       "      <td>0.0</td>\n",
       "      <td>0</td>\n",
       "      <td>0</td>\n",
       "    </tr>\n",
       "  </tbody>\n",
       "</table>\n",
       "</div>"
      ],
      "text/plain": [
       "   step      type    amount     nameOrig  oldbalanceOrg  newbalanceOrig  \\\n",
       "0     1   PAYMENT   9839.64  C1231006815       170136.0       160296.36   \n",
       "1     1   PAYMENT   1864.28  C1666544295        21249.0        19384.72   \n",
       "2     1  TRANSFER    181.00  C1305486145          181.0            0.00   \n",
       "3     1  CASH_OUT    181.00   C840083671          181.0            0.00   \n",
       "4     1   PAYMENT  11668.14  C2048537720        41554.0        29885.86   \n",
       "\n",
       "      nameDest  oldbalanceDest  newbalanceDest  isFraud  isFlaggedFraud  \n",
       "0  M1979787155             0.0             0.0        0               0  \n",
       "1  M2044282225             0.0             0.0        0               0  \n",
       "2   C553264065             0.0             0.0        1               0  \n",
       "3    C38997010         21182.0             0.0        1               0  \n",
       "4  M1230701703             0.0             0.0        0               0  "
      ]
     },
     "execution_count": 6,
     "metadata": {},
     "output_type": "execute_result"
    }
   ],
   "source": [
    "df.head()"
   ]
  },
  {
   "cell_type": "code",
   "execution_count": null,
   "id": "da677158-e6cf-42ad-9923-2216ba82c86b",
   "metadata": {
    "id": "da677158-e6cf-42ad-9923-2216ba82c86b",
    "outputId": "f5841d49-f904-4d78-9fe1-bccc4cae541c"
   },
   "outputs": [
    {
     "data": {
      "text/plain": [
       "Index(['step', 'type', 'amount', 'nameOrig', 'oldbalanceOrg', 'newbalanceOrig',\n",
       "       'nameDest', 'oldbalanceDest', 'newbalanceDest', 'isFraud',\n",
       "       'isFlaggedFraud'],\n",
       "      dtype='object')"
      ]
     },
     "execution_count": 8,
     "metadata": {},
     "output_type": "execute_result"
    }
   ],
   "source": [
    "df.columns"
   ]
  },
  {
   "cell_type": "code",
   "execution_count": null,
   "id": "1302d059-dcc8-4a76-ac61-fb774338136a",
   "metadata": {
    "id": "1302d059-dcc8-4a76-ac61-fb774338136a",
    "outputId": "8e951d6d-d29e-4e9b-cc4d-ff9c50c3ec9e"
   },
   "outputs": [
    {
     "data": {
      "text/plain": [
       "(6362620, 11)"
      ]
     },
     "execution_count": 10,
     "metadata": {},
     "output_type": "execute_result"
    }
   ],
   "source": [
    "df.shape"
   ]
  },
  {
   "cell_type": "code",
   "execution_count": null,
   "id": "0997ca0d-ccb5-4570-a1a9-d88fd87b822a",
   "metadata": {
    "id": "0997ca0d-ccb5-4570-a1a9-d88fd87b822a",
    "outputId": "f690588c-f3b7-404c-ffcd-eee719d6395f"
   },
   "outputs": [
    {
     "name": "stdout",
     "output_type": "stream",
     "text": [
      "<class 'pandas.core.frame.DataFrame'>\n",
      "RangeIndex: 6362620 entries, 0 to 6362619\n",
      "Data columns (total 11 columns):\n",
      " #   Column          Dtype  \n",
      "---  ------          -----  \n",
      " 0   step            int64  \n",
      " 1   type            object \n",
      " 2   amount          float64\n",
      " 3   nameOrig        object \n",
      " 4   oldbalanceOrg   float64\n",
      " 5   newbalanceOrig  float64\n",
      " 6   nameDest        object \n",
      " 7   oldbalanceDest  float64\n",
      " 8   newbalanceDest  float64\n",
      " 9   isFraud         int64  \n",
      " 10  isFlaggedFraud  int64  \n",
      "dtypes: float64(5), int64(3), object(3)\n",
      "memory usage: 534.0+ MB\n"
     ]
    }
   ],
   "source": [
    "df.info()"
   ]
  },
  {
   "cell_type": "code",
   "execution_count": null,
   "id": "b9452aac-0d48-4ea0-aad8-0a8249d9c3f0",
   "metadata": {
    "id": "b9452aac-0d48-4ea0-aad8-0a8249d9c3f0",
    "outputId": "143a8108-935b-4157-b537-2f1f8ef8a9d5"
   },
   "outputs": [
    {
     "data": {
      "text/html": [
       "<div>\n",
       "<style scoped>\n",
       "    .dataframe tbody tr th:only-of-type {\n",
       "        vertical-align: middle;\n",
       "    }\n",
       "\n",
       "    .dataframe tbody tr th {\n",
       "        vertical-align: top;\n",
       "    }\n",
       "\n",
       "    .dataframe thead th {\n",
       "        text-align: right;\n",
       "    }\n",
       "</style>\n",
       "<table border=\"1\" class=\"dataframe\">\n",
       "  <thead>\n",
       "    <tr style=\"text-align: right;\">\n",
       "      <th></th>\n",
       "      <th>step</th>\n",
       "      <th>amount</th>\n",
       "      <th>oldbalanceOrg</th>\n",
       "      <th>newbalanceOrig</th>\n",
       "      <th>oldbalanceDest</th>\n",
       "      <th>newbalanceDest</th>\n",
       "      <th>isFraud</th>\n",
       "      <th>isFlaggedFraud</th>\n",
       "    </tr>\n",
       "  </thead>\n",
       "  <tbody>\n",
       "    <tr>\n",
       "      <th>count</th>\n",
       "      <td>6.362620e+06</td>\n",
       "      <td>6.362620e+06</td>\n",
       "      <td>6.362620e+06</td>\n",
       "      <td>6.362620e+06</td>\n",
       "      <td>6.362620e+06</td>\n",
       "      <td>6.362620e+06</td>\n",
       "      <td>6.362620e+06</td>\n",
       "      <td>6.362620e+06</td>\n",
       "    </tr>\n",
       "    <tr>\n",
       "      <th>mean</th>\n",
       "      <td>2.433972e+02</td>\n",
       "      <td>1.798619e+05</td>\n",
       "      <td>8.338831e+05</td>\n",
       "      <td>8.551137e+05</td>\n",
       "      <td>1.100702e+06</td>\n",
       "      <td>1.224996e+06</td>\n",
       "      <td>1.290820e-03</td>\n",
       "      <td>2.514687e-06</td>\n",
       "    </tr>\n",
       "    <tr>\n",
       "      <th>std</th>\n",
       "      <td>1.423320e+02</td>\n",
       "      <td>6.038582e+05</td>\n",
       "      <td>2.888243e+06</td>\n",
       "      <td>2.924049e+06</td>\n",
       "      <td>3.399180e+06</td>\n",
       "      <td>3.674129e+06</td>\n",
       "      <td>3.590480e-02</td>\n",
       "      <td>1.585775e-03</td>\n",
       "    </tr>\n",
       "    <tr>\n",
       "      <th>min</th>\n",
       "      <td>1.000000e+00</td>\n",
       "      <td>0.000000e+00</td>\n",
       "      <td>0.000000e+00</td>\n",
       "      <td>0.000000e+00</td>\n",
       "      <td>0.000000e+00</td>\n",
       "      <td>0.000000e+00</td>\n",
       "      <td>0.000000e+00</td>\n",
       "      <td>0.000000e+00</td>\n",
       "    </tr>\n",
       "    <tr>\n",
       "      <th>25%</th>\n",
       "      <td>1.560000e+02</td>\n",
       "      <td>1.338957e+04</td>\n",
       "      <td>0.000000e+00</td>\n",
       "      <td>0.000000e+00</td>\n",
       "      <td>0.000000e+00</td>\n",
       "      <td>0.000000e+00</td>\n",
       "      <td>0.000000e+00</td>\n",
       "      <td>0.000000e+00</td>\n",
       "    </tr>\n",
       "    <tr>\n",
       "      <th>50%</th>\n",
       "      <td>2.390000e+02</td>\n",
       "      <td>7.487194e+04</td>\n",
       "      <td>1.420800e+04</td>\n",
       "      <td>0.000000e+00</td>\n",
       "      <td>1.327057e+05</td>\n",
       "      <td>2.146614e+05</td>\n",
       "      <td>0.000000e+00</td>\n",
       "      <td>0.000000e+00</td>\n",
       "    </tr>\n",
       "    <tr>\n",
       "      <th>75%</th>\n",
       "      <td>3.350000e+02</td>\n",
       "      <td>2.087215e+05</td>\n",
       "      <td>1.073152e+05</td>\n",
       "      <td>1.442584e+05</td>\n",
       "      <td>9.430367e+05</td>\n",
       "      <td>1.111909e+06</td>\n",
       "      <td>0.000000e+00</td>\n",
       "      <td>0.000000e+00</td>\n",
       "    </tr>\n",
       "    <tr>\n",
       "      <th>max</th>\n",
       "      <td>7.430000e+02</td>\n",
       "      <td>9.244552e+07</td>\n",
       "      <td>5.958504e+07</td>\n",
       "      <td>4.958504e+07</td>\n",
       "      <td>3.560159e+08</td>\n",
       "      <td>3.561793e+08</td>\n",
       "      <td>1.000000e+00</td>\n",
       "      <td>1.000000e+00</td>\n",
       "    </tr>\n",
       "  </tbody>\n",
       "</table>\n",
       "</div>"
      ],
      "text/plain": [
       "               step        amount  oldbalanceOrg  newbalanceOrig  \\\n",
       "count  6.362620e+06  6.362620e+06   6.362620e+06    6.362620e+06   \n",
       "mean   2.433972e+02  1.798619e+05   8.338831e+05    8.551137e+05   \n",
       "std    1.423320e+02  6.038582e+05   2.888243e+06    2.924049e+06   \n",
       "min    1.000000e+00  0.000000e+00   0.000000e+00    0.000000e+00   \n",
       "25%    1.560000e+02  1.338957e+04   0.000000e+00    0.000000e+00   \n",
       "50%    2.390000e+02  7.487194e+04   1.420800e+04    0.000000e+00   \n",
       "75%    3.350000e+02  2.087215e+05   1.073152e+05    1.442584e+05   \n",
       "max    7.430000e+02  9.244552e+07   5.958504e+07    4.958504e+07   \n",
       "\n",
       "       oldbalanceDest  newbalanceDest       isFraud  isFlaggedFraud  \n",
       "count    6.362620e+06    6.362620e+06  6.362620e+06    6.362620e+06  \n",
       "mean     1.100702e+06    1.224996e+06  1.290820e-03    2.514687e-06  \n",
       "std      3.399180e+06    3.674129e+06  3.590480e-02    1.585775e-03  \n",
       "min      0.000000e+00    0.000000e+00  0.000000e+00    0.000000e+00  \n",
       "25%      0.000000e+00    0.000000e+00  0.000000e+00    0.000000e+00  \n",
       "50%      1.327057e+05    2.146614e+05  0.000000e+00    0.000000e+00  \n",
       "75%      9.430367e+05    1.111909e+06  0.000000e+00    0.000000e+00  \n",
       "max      3.560159e+08    3.561793e+08  1.000000e+00    1.000000e+00  "
      ]
     },
     "execution_count": 158,
     "metadata": {},
     "output_type": "execute_result"
    }
   ],
   "source": [
    "df.describe()"
   ]
  },
  {
   "cell_type": "markdown",
   "id": "iemDUYv3qgFX",
   "metadata": {
    "id": "iemDUYv3qgFX"
   },
   "source": [
    "***DATA*** ***PREPROCESSING***\n",
    "\n",
    "\n",
    "*   HandLE Null values\n",
    "*   Handling Outliers\n",
    "*   Label Encoding\n",
    "*   Standardize Features\n",
    "*   Feature Engineering\n",
    "*   Handling Multi-Colinearity\n",
    "\n"
   ]
  },
  {
   "cell_type": "code",
   "execution_count": null,
   "id": "13896ce2-a45a-4c5e-988a-705423f95e76",
   "metadata": {
    "id": "13896ce2-a45a-4c5e-988a-705423f95e76",
    "outputId": "0b19ee5c-5e1e-4d82-c273-cde49df8ca4d"
   },
   "outputs": [
    {
     "data": {
      "text/plain": [
       "step              0\n",
       "type              0\n",
       "amount            0\n",
       "nameOrig          0\n",
       "oldbalanceOrg     0\n",
       "newbalanceOrig    0\n",
       "nameDest          0\n",
       "oldbalanceDest    0\n",
       "newbalanceDest    0\n",
       "isFraud           0\n",
       "isFlaggedFraud    0\n",
       "dtype: int64"
      ]
     },
     "execution_count": 14,
     "metadata": {},
     "output_type": "execute_result"
    }
   ],
   "source": [
    "df.isnull().sum()"
   ]
  },
  {
   "cell_type": "code",
   "execution_count": null,
   "id": "eb5fee4a-716e-43d4-8eb7-406f9ad5fa0f",
   "metadata": {
    "id": "eb5fee4a-716e-43d4-8eb7-406f9ad5fa0f",
    "outputId": "af512aa3-e73e-4e60-87c6-0204cdcdffec"
   },
   "outputs": [
    {
     "data": {
      "text/plain": [
       "0"
      ]
     },
     "execution_count": 16,
     "metadata": {},
     "output_type": "execute_result"
    }
   ],
   "source": [
    "df.duplicated().sum()"
   ]
  },
  {
   "cell_type": "code",
   "execution_count": null,
   "id": "e5f304ea-da82-44bf-936c-d1855dc3b878",
   "metadata": {
    "id": "e5f304ea-da82-44bf-936c-d1855dc3b878",
    "outputId": "2920296f-dc6c-4937-f24a-051032ba78d5"
   },
   "outputs": [
    {
     "data": {
      "text/plain": [
       "<function matplotlib.pyplot.show(close=None, block=None)>"
      ]
     },
     "execution_count": 18,
     "metadata": {},
     "output_type": "execute_result"
    },
    {
     "data": {
      "image/png": "[encoded data removed]",
      "text/plain": [
       "<Figure size 640x480 with 1 Axes>"
      ]
     },
     "metadata": {},
     "output_type": "display_data"
    }
   ],
   "source": [
    "sns.boxplot(data = df, orient = \"h\")\n",
    "plt.show"
   ]
  },
  {
   "cell_type": "code",
   "execution_count": null,
   "id": "a7db78fd-6814-4598-88fd-220c1013cfbc",
   "metadata": {
    "id": "a7db78fd-6814-4598-88fd-220c1013cfbc"
   },
   "outputs": [],
   "source": [
    "df['amount'] = mstats.winsorize(df['amount'], limits=[0.01, 0.01])\n",
    "df['oldbalanceOrg'] = mstats.winsorize(df['oldbalanceOrg'], limits=[0.01, 0.01])\n",
    "df['newbalanceOrig'] = mstats.winsorize(df['newbalanceOrig'], limits=[0.01, 0.01])\n",
    "df['oldbalanceDest'] = mstats.winsorize(df['oldbalanceDest'], limits=[0.01, 0.01])\n",
    "df['newbalanceDest'] = mstats.winsorize(df['newbalanceDest'], limits=[0.01, 0.01])"
   ]
  },
  {
   "cell_type": "code",
   "execution_count": null,
   "id": "5ca447e2-938d-4633-bf8f-451b15f70cda",
   "metadata": {
    "id": "5ca447e2-938d-4633-bf8f-451b15f70cda",
    "outputId": "fcab2cf1-41c6-485d-f987-aa3f5e6b0b19"
   },
   "outputs": [
    {
     "data": {
      "text/plain": [
       "<function matplotlib.pyplot.plot(*args: 'float | ArrayLike | str', scalex: 'bool' = True, scaley: 'bool' = True, data=None, **kwargs) -> 'list[Line2D]'>"
      ]
     },
     "execution_count": 42,
     "metadata": {},
     "output_type": "execute_result"
    },
    {
     "data": {
      "image/png": "[encoded data removed]",
      "text/plain": [
       "<Figure size 640x480 with 1 Axes>"
      ]
     },
     "metadata": {},
     "output_type": "display_data"
    }
   ],
   "source": [
    "sns.boxplot(data =df,orient =\"h\")\n",
    "plt.plot"
   ]
  },
  {
   "cell_type": "code",
   "execution_count": null,
   "id": "38de3361-dd6c-4aaf-a8b7-d6b6812ba6e4",
   "metadata": {
    "id": "38de3361-dd6c-4aaf-a8b7-d6b6812ba6e4"
   },
   "outputs": [],
   "source": [
    "df['log_amount'] = np.log1p(df['amount'])  # log1p(x) = log(1 + x)\n",
    "df['log_oldbalanceOrg'] = np.log1p(df['oldbalanceOrg'])\n",
    "df['log_newbalanceOrig'] = np.log1p(df['newbalanceOrig'])\n",
    "df['log_oldbalanceDest'] = np.log1p(df['oldbalanceDest'])\n",
    "df['log_newbalanceDest'] = np.log1p(df['newbalanceDest'])"
   ]
  },
  {
   "cell_type": "code",
   "execution_count": null,
   "id": "359d2bc8-3de1-4c9d-bb6b-0281aa1472ef",
   "metadata": {
    "id": "359d2bc8-3de1-4c9d-bb6b-0281aa1472ef",
    "outputId": "e2358b23-56de-43a5-9f54-43fd84134154"
   },
   "outputs": [
    {
     "data": {
      "text/plain": [
       "<function matplotlib.pyplot.plot(*args: 'float | ArrayLike | str', scalex: 'bool' = True, scaley: 'bool' = True, data=None, **kwargs) -> 'list[Line2D]'>"
      ]
     },
     "execution_count": 46,
     "metadata": {},
     "output_type": "execute_result"
    },
    {
     "data": {
      "image/png": "[encoded data removed]",
      "text/plain": [
       "<Figure size 640x480 with 1 Axes>"
      ]
     },
     "metadata": {},
     "output_type": "display_data"
    }
   ],
   "source": [
    "sns.boxplot(data =df,orient =\"h\")\n",
    "plt.plot"
   ]
  },
  {
   "cell_type": "code",
   "execution_count": null,
   "id": "a9aa62c4-394a-451c-acc3-02717285c284",
   "metadata": {
    "id": "a9aa62c4-394a-451c-acc3-02717285c284"
   },
   "outputs": [],
   "source": [
    "df.drop(['nameOrig','nameDest','amount', 'oldbalanceOrg', 'newbalanceOrig','oldbalanceDest','newbalanceDest'], axis=1, inplace=True)"
   ]
  },
  {
   "cell_type": "code",
   "execution_count": null,
   "id": "094d1230-43e3-422d-aab1-d15162f00b23",
   "metadata": {
    "id": "094d1230-43e3-422d-aab1-d15162f00b23",
    "outputId": "e2d26523-5ffd-4f58-8251-44b53f3b13c1"
   },
   "outputs": [
    {
     "data": {
      "text/html": [
       "<div>\n",
       "<style scoped>\n",
       "    .dataframe tbody tr th:only-of-type {\n",
       "        vertical-align: middle;\n",
       "    }\n",
       "\n",
       "    .dataframe tbody tr th {\n",
       "        vertical-align: top;\n",
       "    }\n",
       "\n",
       "    .dataframe thead th {\n",
       "        text-align: right;\n",
       "    }\n",
       "</style>\n",
       "<table border=\"1\" class=\"dataframe\">\n",
       "  <thead>\n",
       "    <tr style=\"text-align: right;\">\n",
       "      <th></th>\n",
       "      <th>step</th>\n",
       "      <th>type</th>\n",
       "      <th>isFraud</th>\n",
       "      <th>isFlaggedFraud</th>\n",
       "      <th>log_amount</th>\n",
       "      <th>log_oldbalanceOrg</th>\n",
       "      <th>log_newbalanceOrig</th>\n",
       "      <th>log_oldbalanceDest</th>\n",
       "      <th>log_newbalanceDest</th>\n",
       "    </tr>\n",
       "  </thead>\n",
       "  <tbody>\n",
       "    <tr>\n",
       "      <th>0</th>\n",
       "      <td>1</td>\n",
       "      <td>PAYMENT</td>\n",
       "      <td>0</td>\n",
       "      <td>0</td>\n",
       "      <td>9.194276</td>\n",
       "      <td>12.044359</td>\n",
       "      <td>11.984786</td>\n",
       "      <td>0.000000</td>\n",
       "      <td>0.000000</td>\n",
       "    </tr>\n",
       "    <tr>\n",
       "      <th>1</th>\n",
       "      <td>1</td>\n",
       "      <td>PAYMENT</td>\n",
       "      <td>0</td>\n",
       "      <td>0</td>\n",
       "      <td>7.531166</td>\n",
       "      <td>9.964112</td>\n",
       "      <td>9.872292</td>\n",
       "      <td>0.000000</td>\n",
       "      <td>0.000000</td>\n",
       "    </tr>\n",
       "    <tr>\n",
       "      <th>2</th>\n",
       "      <td>1</td>\n",
       "      <td>TRANSFER</td>\n",
       "      <td>1</td>\n",
       "      <td>0</td>\n",
       "      <td>6.110269</td>\n",
       "      <td>5.204007</td>\n",
       "      <td>0.000000</td>\n",
       "      <td>0.000000</td>\n",
       "      <td>0.000000</td>\n",
       "    </tr>\n",
       "    <tr>\n",
       "      <th>3</th>\n",
       "      <td>1</td>\n",
       "      <td>CASH_OUT</td>\n",
       "      <td>1</td>\n",
       "      <td>0</td>\n",
       "      <td>6.110269</td>\n",
       "      <td>5.204007</td>\n",
       "      <td>0.000000</td>\n",
       "      <td>9.960954</td>\n",
       "      <td>0.000000</td>\n",
       "    </tr>\n",
       "    <tr>\n",
       "      <th>4</th>\n",
       "      <td>1</td>\n",
       "      <td>PAYMENT</td>\n",
       "      <td>0</td>\n",
       "      <td>0</td>\n",
       "      <td>9.364703</td>\n",
       "      <td>10.634773</td>\n",
       "      <td>10.305174</td>\n",
       "      <td>0.000000</td>\n",
       "      <td>0.000000</td>\n",
       "    </tr>\n",
       "    <tr>\n",
       "      <th>...</th>\n",
       "      <td>...</td>\n",
       "      <td>...</td>\n",
       "      <td>...</td>\n",
       "      <td>...</td>\n",
       "      <td>...</td>\n",
       "      <td>...</td>\n",
       "      <td>...</td>\n",
       "      <td>...</td>\n",
       "      <td>...</td>\n",
       "    </tr>\n",
       "    <tr>\n",
       "      <th>6362615</th>\n",
       "      <td>743</td>\n",
       "      <td>CASH_OUT</td>\n",
       "      <td>1</td>\n",
       "      <td>0</td>\n",
       "      <td>12.735768</td>\n",
       "      <td>12.735768</td>\n",
       "      <td>0.000000</td>\n",
       "      <td>0.000000</td>\n",
       "      <td>12.735768</td>\n",
       "    </tr>\n",
       "    <tr>\n",
       "      <th>6362616</th>\n",
       "      <td>743</td>\n",
       "      <td>TRANSFER</td>\n",
       "      <td>1</td>\n",
       "      <td>0</td>\n",
       "      <td>14.295455</td>\n",
       "      <td>15.657870</td>\n",
       "      <td>0.000000</td>\n",
       "      <td>0.000000</td>\n",
       "      <td>0.000000</td>\n",
       "    </tr>\n",
       "    <tr>\n",
       "      <th>6362617</th>\n",
       "      <td>743</td>\n",
       "      <td>CASH_OUT</td>\n",
       "      <td>1</td>\n",
       "      <td>0</td>\n",
       "      <td>14.295455</td>\n",
       "      <td>15.657870</td>\n",
       "      <td>0.000000</td>\n",
       "      <td>11.134441</td>\n",
       "      <td>15.668663</td>\n",
       "    </tr>\n",
       "    <tr>\n",
       "      <th>6362618</th>\n",
       "      <td>743</td>\n",
       "      <td>TRANSFER</td>\n",
       "      <td>1</td>\n",
       "      <td>0</td>\n",
       "      <td>13.652996</td>\n",
       "      <td>13.652996</td>\n",
       "      <td>0.000000</td>\n",
       "      <td>0.000000</td>\n",
       "      <td>0.000000</td>\n",
       "    </tr>\n",
       "    <tr>\n",
       "      <th>6362619</th>\n",
       "      <td>743</td>\n",
       "      <td>CASH_OUT</td>\n",
       "      <td>1</td>\n",
       "      <td>0</td>\n",
       "      <td>13.652996</td>\n",
       "      <td>13.652996</td>\n",
       "      <td>0.000000</td>\n",
       "      <td>15.688865</td>\n",
       "      <td>15.811584</td>\n",
       "    </tr>\n",
       "  </tbody>\n",
       "</table>\n",
       "<p>6362620 rows × 9 columns</p>\n",
       "</div>"
      ],
      "text/plain": [
       "         step      type  isFraud  isFlaggedFraud  log_amount  \\\n",
       "0           1   PAYMENT        0               0    9.194276   \n",
       "1           1   PAYMENT        0               0    7.531166   \n",
       "2           1  TRANSFER        1               0    6.110269   \n",
       "3           1  CASH_OUT        1               0    6.110269   \n",
       "4           1   PAYMENT        0               0    9.364703   \n",
       "...       ...       ...      ...             ...         ...   \n",
       "6362615   743  CASH_OUT        1               0   12.735768   \n",
       "6362616   743  TRANSFER        1               0   14.295455   \n",
       "6362617   743  CASH_OUT        1               0   14.295455   \n",
       "6362618   743  TRANSFER        1               0   13.652996   \n",
       "6362619   743  CASH_OUT        1               0   13.652996   \n",
       "\n",
       "         log_oldbalanceOrg  log_newbalanceOrig  log_oldbalanceDest  \\\n",
       "0                12.044359           11.984786            0.000000   \n",
       "1                 9.964112            9.872292            0.000000   \n",
       "2                 5.204007            0.000000            0.000000   \n",
       "3                 5.204007            0.000000            9.960954   \n",
       "4                10.634773           10.305174            0.000000   \n",
       "...                    ...                 ...                 ...   \n",
       "6362615          12.735768            0.000000            0.000000   \n",
       "6362616          15.657870            0.000000            0.000000   \n",
       "6362617          15.657870            0.000000           11.134441   \n",
       "6362618          13.652996            0.000000            0.000000   \n",
       "6362619          13.652996            0.000000           15.688865   \n",
       "\n",
       "         log_newbalanceDest  \n",
       "0                  0.000000  \n",
       "1                  0.000000  \n",
       "2                  0.000000  \n",
       "3                  0.000000  \n",
       "4                  0.000000  \n",
       "...                     ...  \n",
       "6362615           12.735768  \n",
       "6362616            0.000000  \n",
       "6362617           15.668663  \n",
       "6362618            0.000000  \n",
       "6362619           15.811584  \n",
       "\n",
       "[6362620 rows x 9 columns]"
      ]
     },
     "execution_count": 14,
     "metadata": {},
     "output_type": "execute_result"
    }
   ],
   "source": [
    "df"
   ]
  },
  {
   "cell_type": "code",
   "execution_count": null,
   "id": "82fed0f2-f25b-43c4-a976-7605e0509bc8",
   "metadata": {
    "id": "82fed0f2-f25b-43c4-a976-7605e0509bc8"
   },
   "outputs": [],
   "source": [
    "label_encoder = preprocessing.LabelEncoder()\n",
    "df[\"type\"] = label_encoder.fit_transform(df[\"type\"])"
   ]
  },
  {
   "cell_type": "markdown",
   "id": "pB8CWnfn-OS6",
   "metadata": {
    "id": "pB8CWnfn-OS6"
   },
   "source": [
    "***MODEL BUILDING***\n",
    "\n",
    "*   Feature and Target Selection\n",
    "*   Data Splitting\n",
    "*   Handling Class Imbalance\n",
    "*   Model Instantiation\n",
    "*   Model Training\n",
    "*   Making Predictions\n",
    "*   Model Evaluation\n",
    "\n"
   ]
  },
  {
   "cell_type": "code",
   "execution_count": null,
   "id": "d9fd4d7a-f430-403d-8e4c-ac2444ca8038",
   "metadata": {
    "id": "d9fd4d7a-f430-403d-8e4c-ac2444ca8038"
   },
   "outputs": [],
   "source": [
    "X = df[['step', 'type', 'log_amount', 'log_oldbalanceOrg', 'log_newbalanceOrig', 'log_oldbalanceDest', 'log_newbalanceDest']]\n",
    "y = df['isFraud']"
   ]
  },
  {
   "cell_type": "code",
   "execution_count": null,
   "id": "e02d766d-c2ff-47ac-8a1a-9dd05756eeb4",
   "metadata": {
    "id": "e02d766d-c2ff-47ac-8a1a-9dd05756eeb4"
   },
   "outputs": [],
   "source": [
    "X_train, X_test, y_train, y_test = train_test_split(X, y, test_size=0.3, random_state=42)"
   ]
  },
  {
   "cell_type": "code",
   "execution_count": null,
   "id": "bc16abb9-b51a-4c7a-9eeb-5fcc44c05a05",
   "metadata": {
    "id": "bc16abb9-b51a-4c7a-9eeb-5fcc44c05a05",
    "outputId": "c81611ed-8523-4ddd-c449-217bae6e189c"
   },
   "outputs": [
    {
     "name": "stdout",
     "output_type": "stream",
     "text": [
      "Before SMOTE: isFraud\n",
      "0    4448056\n",
      "1       5778\n",
      "Name: count, dtype: int64\n",
      "After SMOTE: isFraud\n",
      "0    4448056\n",
      "1    4448056\n",
      "Name: count, dtype: int64\n"
     ]
    }
   ],
   "source": [
    "sm = SMOTE(random_state=42)\n",
    "X_train_res, y_train_res = sm.fit_resample(X_train, y_train)\n",
    "print(f\"Before SMOTE: {y_train.value_counts()}\")\n",
    "print(f\"After SMOTE: {y_train_res.value_counts()}\")"
   ]
  },
  {
   "cell_type": "code",
   "execution_count": null,
   "id": "69929a0c-9871-46f1-80f8-ee55f4355ef7",
   "metadata": {
    "id": "69929a0c-9871-46f1-80f8-ee55f4355ef7",
    "outputId": "43b44f7d-6628-4e2c-f002-b345b14cc957"
   },
   "outputs": [
    {
     "name": "stdout",
     "output_type": "stream",
     "text": [
      "Original class distribution: isFraud\n",
      "0    4448056\n",
      "1       5778\n",
      "Name: count, dtype: int64\n",
      "Resampled class distribution: isFraud\n",
      "0    5778\n",
      "1    5778\n",
      "Name: count, dtype: int64\n"
     ]
    }
   ],
   "source": [
    "undersampler = RandomUnderSampler(random_state=42)\n",
    "\n",
    "X_resampled, y_resampled = undersampler.fit_resample(X_train, y_train)\n",
    "\n",
    "print(\"Original class distribution:\", y_train.value_counts())\n",
    "print(\"Resampled class distribution:\", y_resampled.value_counts())"
   ]
  },
  {
   "cell_type": "code",
   "execution_count": null,
   "id": "edfe81ff-ddf1-4d52-88e7-879256039b20",
   "metadata": {
    "id": "edfe81ff-ddf1-4d52-88e7-879256039b20",
    "outputId": "bd01b0a9-4361-42bb-fadf-32af0ce14d0e"
   },
   "outputs": [
    {
     "name": "stdout",
     "output_type": "stream",
     "text": [
      "              precision    recall  f1-score   support\n",
      "\n",
      "           0       1.00      1.00      1.00   1906351\n",
      "           1       0.98      0.78      0.87      2435\n",
      "\n",
      "    accuracy                           1.00   1908786\n",
      "   macro avg       0.99      0.89      0.94   1908786\n",
      "weighted avg       1.00      1.00      1.00   1908786\n",
      "\n",
      "AUC-ROC Score: 0.8921858471657027\n"
     ]
    }
   ],
   "source": [
    "rf = RandomForestClassifier(n_estimators=100, random_state=42)\n",
    "rf.fit(X_train, y_train)\n",
    "y_pred = rf.predict(X_test)\n",
    "print(classification_report(y_test, y_pred))\n",
    "print(\"AUC-ROC Score:\", roc_auc_score(y_test, y_pred))"
   ]
  },
  {
   "cell_type": "code",
   "execution_count": null,
   "id": "28d25a20-1d04-4c62-8323-bab1f3202a8d",
   "metadata": {
    "id": "28d25a20-1d04-4c62-8323-bab1f3202a8d",
    "outputId": "12ffdb4e-4972-4bf5-a957-067e98535f1d"
   },
   "outputs": [
    {
     "data": {
      "image/png": "[encoded data removed]",
      "text/plain": [
       "<Figure size 640x480 with 1 Axes>"
      ]
     },
     "metadata": {},
     "output_type": "display_data"
    },
    {
     "name": "stdout",
     "output_type": "stream",
     "text": [
      "              precision    recall  f1-score   support\n",
      "\n",
      "           0       1.00      1.00      1.00   1906351\n",
      "           1       0.76      0.97      0.85      2435\n",
      "\n",
      "    accuracy                           1.00   1908786\n",
      "   macro avg       0.88      0.98      0.93   1908786\n",
      "weighted avg       1.00      1.00      1.00   1908786\n",
      "\n",
      "AUC-ROC Score: 0.9984688678216431\n"
     ]
    }
   ],
   "source": [
    "y_pred_proba = rf.predict_proba(X_test)[:, 1]\n",
    "\n",
    "precision, recall, thresholds = precision_recall_curve(y_test, y_pred_proba)\n",
    "\n",
    "plt.plot(thresholds, precision[:-1], label='Precision')\n",
    "plt.plot(thresholds, recall[:-1], label='Recall')\n",
    "plt.xlabel('Threshold')\n",
    "plt.ylabel('Precision/Recall')\n",
    "plt.legend()\n",
    "plt.title('Precision-Recall vs Threshold')\n",
    "plt.show()\n",
    "\n",
    "y_pred_optimal = (y_pred_proba >= optimal_threshold).astype(int)\n",
    "\n",
    "print(classification_report(y_test, y_pred_optimal))\n",
    "print(\"AUC-ROC Score:\", roc_auc_score(y_test, y_pred_proba))\n"
   ]
  },
  {
   "cell_type": "code",
   "execution_count": null,
   "id": "aa9309c6-1a61-4b7f-8a3d-d7d3793f5118",
   "metadata": {
    "id": "aa9309c6-1a61-4b7f-8a3d-d7d3793f5118",
    "outputId": "47cfcfd3-cb47-46be-aa62-2bb23301cd8b"
   },
   "outputs": [
    {
     "name": "stdout",
     "output_type": "stream",
     "text": [
      "Fitting 3 folds for each of 10 candidates, totalling 30 fits\n"
     ]
    },
    {
     "name": "stderr",
     "output_type": "stream",
     "text": [
      "C:\\Users\\DELL\\anaconda3\\Lib\\site-packages\\sklearn\\ensemble\\_forest.py:424: FutureWarning: `max_features='auto'` has been deprecated in 1.1 and will be removed in 1.3. To keep the past behaviour, explicitly set `max_features='sqrt'` or remove this parameter as it is also the default value for RandomForestClassifiers and ExtraTreesClassifiers.\n",
      "  warn(\n"
     ]
    },
    {
     "name": "stdout",
     "output_type": "stream",
     "text": [
      "Best Parameters: {'n_estimators': 100, 'min_samples_split': 2, 'min_samples_leaf': 4, 'max_features': 'auto', 'max_depth': 20, 'bootstrap': True}\n",
      "Best Score: 0.9991938230296403\n",
      "Test AUC Score: 0.8784305074910324\n"
     ]
    }
   ],
   "source": [
    "param_dist = {\n",
    "    'n_estimators': [50, 100, 200],\n",
    "    'max_features': ['auto', 'sqrt', 'log2'],\n",
    "    'max_depth': [None, 10, 20, 30],\n",
    "    'min_samples_split': [2, 5, 10],\n",
    "    'min_samples_leaf': [1, 2, 4],\n",
    "    'bootstrap': [True, False]\n",
    "}\n",
    "\n",
    "random_search = RandomizedSearchCV(estimator=rf, param_distributions=param_dist,\n",
    "                                    n_iter=10, scoring='roc_auc', cv=3, n_jobs=-1, verbose=2,\n",
    "                                    random_state=42)\n",
    "\n",
    "random_search.fit(X_train, y_train)\n",
    "\n",
    "print(\"Best Parameters:\", random_search.best_params_)\n",
    "print(\"Best Score:\", random_search.best_score_)\n",
    "\n",
    "best_model = random_search.best_estimator_\n",
    "y_pred = best_model.predict(X_test)\n",
    "print(\"Test AUC Score:\", roc_auc_score(y_test, y_pred))"
   ]
  },
  {
   "cell_type": "markdown",
   "id": "B-ZSyB3_AZuV",
   "metadata": {
    "id": "B-ZSyB3_AZuV"
   },
   "source": [
    "**Hyper Tuning**"
   ]
  },
  {
   "cell_type": "code",
   "execution_count": null,
   "id": "c7bd22e6-ed90-4a72-88ed-d26f71f8d48d",
   "metadata": {
    "id": "c7bd22e6-ed90-4a72-88ed-d26f71f8d48d",
    "outputId": "bb11657c-5e10-496d-847f-62c5435be67a"
   },
   "outputs": [
    {
     "name": "stdout",
     "output_type": "stream",
     "text": [
      "Test AUC Score: 0.9985722450622219\n",
      "Classification Report:\n",
      "               precision    recall  f1-score   support\n",
      "\n",
      "           0       1.00      1.00      1.00   1906351\n",
      "           1       0.98      0.76      0.85      2435\n",
      "\n",
      "    accuracy                           1.00   1908786\n",
      "   macro avg       0.99      0.88      0.93   1908786\n",
      "weighted avg       1.00      1.00      1.00   1908786\n",
      "\n"
     ]
    }
   ],
   "source": [
    "best_params = {\n",
    "    'n_estimators': 100,\n",
    "    'min_samples_split': 2,\n",
    "    'min_samples_leaf': 4,\n",
    "    'max_features': 'sqrt',\n",
    "    'max_depth': 20,\n",
    "    'bootstrap': True\n",
    "}\n",
    "\n",
    "rf = RandomForestClassifier(\n",
    "    n_estimators=best_params['n_estimators'],\n",
    "    min_samples_split=best_params['min_samples_split'],\n",
    "    min_samples_leaf=best_params['min_samples_leaf'],\n",
    "    max_features=best_params['max_features'],\n",
    "    max_depth=best_params['max_depth'],\n",
    "    bootstrap=best_params['bootstrap'],\n",
    "    random_state=42\n",
    ")\n",
    "\n",
    "rf.fit(X_train, y_train)\n",
    "y_pred_proba = rf.predict_proba(X_test)[:, 1]\n",
    "\n",
    "test_auc = roc_auc_score(y_test, y_pred_proba)\n",
    "print(f\"Test AUC Score: {test_auc}\")\n",
    "\n",
    "y_pred = rf.predict(X_test)\n",
    "print(\"Classification Report:\\n\", classification_report(y_test, y_pred))"
   ]
  },
  {
   "cell_type": "code",
   "execution_count": null,
   "id": "a3b9a77a-1ec8-40a1-a74a-b1106d12f130",
   "metadata": {
    "id": "a3b9a77a-1ec8-40a1-a74a-b1106d12f130",
    "outputId": "9a073e60-e71b-4e20-a9f3-bc3e1b23221d"
   },
   "outputs": [
    {
     "name": "stdout",
     "output_type": "stream",
     "text": [
      "Test AUC Score: 0.9986207960563147\n",
      "Classification Report:\n",
      "               precision    recall  f1-score   support\n",
      "\n",
      "           0       1.00      0.99      1.00   1906351\n",
      "           1       0.20      0.99      0.33      2435\n",
      "\n",
      "    accuracy                           0.99   1908786\n",
      "   macro avg       0.60      0.99      0.66   1908786\n",
      "weighted avg       1.00      0.99      1.00   1908786\n",
      "\n"
     ]
    }
   ],
   "source": [
    "smote = SMOTE(random_state=42)\n",
    "X_resampled, y_resampled = smote.fit_resample(X_train, y_train)\n",
    "\n",
    "rf = RandomForestClassifier(\n",
    "    n_estimators=100,\n",
    "    min_samples_split=2,\n",
    "    min_samples_leaf=4,\n",
    "    max_features='sqrt',\n",
    "    max_depth=20,\n",
    "    bootstrap=True,\n",
    "    random_state=42\n",
    ")\n",
    "\n",
    "rf.fit(X_resampled, y_resampled)\n",
    "y_pred_proba = rf.predict_proba(X_test)[:, 1]\n",
    "\n",
    "test_auc = roc_auc_score(y_test, y_pred_proba)\n",
    "print(f\"Test AUC Score: {test_auc}\")\n",
    "y_pred = (y_pred_proba >= 0.3).astype(int)\n",
    "\n",
    "print(\"Classification Report:\\n\", classification_report(y_test, y_pred))"
   ]
  },
  {
   "cell_type": "code",
   "execution_count": null,
   "id": "ce5c4d12-de5a-43cd-9eb3-e0bbb01aad45",
   "metadata": {
    "id": "ce5c4d12-de5a-43cd-9eb3-e0bbb01aad45",
    "outputId": "52e49b8d-37c6-40e7-fc7d-55c30d6f0ae8"
   },
   "outputs": [
    {
     "name": "stdout",
     "output_type": "stream",
     "text": [
      "Test AUC Score: 0.9980544074302882\n",
      "Classification Report:\n",
      "               precision    recall  f1-score   support\n",
      "\n",
      "           0       1.00      1.00      1.00   1906351\n",
      "           1       0.35      0.96      0.51      2435\n",
      "\n",
      "    accuracy                           1.00   1908786\n",
      "   macro avg       0.67      0.98      0.76   1908786\n",
      "weighted avg       1.00      1.00      1.00   1908786\n",
      "\n",
      "Selected threshold: 0.3\n",
      "Precision at threshold: [0.00127568 0.01060507 0.01251669 ... 1.         1.         1.        ]\n",
      "Recall at threshold: [1.         0.99712526 0.99712526 ... 0.01971253 0.01190965 0.        ]\n"
     ]
    }
   ],
   "source": [
    "best_params = {\n",
    "    'n_estimators': 100,\n",
    "    'min_samples_split': 2,\n",
    "    'min_samples_leaf': 4,\n",
    "    'max_features': 'sqrt',\n",
    "    'max_depth': 20,\n",
    "    'bootstrap': True,\n",
    "    'class_weight': 'balanced'\n",
    "}\n",
    "\n",
    "rf = RandomForestClassifier(\n",
    "    n_estimators=best_params['n_estimators'],\n",
    "    min_samples_split=best_params['min_samples_split'],\n",
    "    min_samples_leaf=best_params['min_samples_leaf'],\n",
    "    max_features=best_params['max_features'],\n",
    "    max_depth=best_params['max_depth'],\n",
    "    bootstrap=best_params['bootstrap'],\n",
    "    class_weight=best_params['class_weight'],\n",
    "    random_state=42\n",
    ")\n",
    "\n",
    "rf.fit(X_train, y_train)\n",
    "\n",
    "y_pred_proba = rf.predict_proba(X_test)[:, 1]\n",
    "\n",
    "test_auc = roc_auc_score(y_test, y_pred_proba)\n",
    "print(f\"Test AUC Score: {test_auc}\")\n",
    "\n",
    "y_pred = (y_pred_proba >= threshold).astype(int)\n",
    "\n",
    "print(\"Classification Report:\\n\", classification_report(y_test, y_pred))\n",
    "\n",
    "precision, recall, thresholds = precision_recall_curve(y_test, y_pred_proba)\n",
    "\n",
    "print(f\"Selected threshold: {threshold}\")\n",
    "print(f\"Precision at threshold: {precision}\")\n",
    "print(f\"Recall at threshold: {recall}\")"
   ]
  },
  {
   "cell_type": "markdown",
   "id": "eHO5cRBS_XrN",
   "metadata": {
    "id": "eHO5cRBS_XrN"
   },
   "source": [
    "**Feature Importance Calculation**"
   ]
  },
  {
   "cell_type": "code",
   "execution_count": null,
   "id": "78b0eebe-0c29-4cbe-92b6-27fec6cf8ae6",
   "metadata": {
    "id": "78b0eebe-0c29-4cbe-92b6-27fec6cf8ae6",
    "outputId": "6e149b51-9750-46c7-cceb-411bf1548dca"
   },
   "outputs": [
    {
     "name": "stdout",
     "output_type": "stream",
     "text": [
      "step: 0.08420672208181038\n",
      "type: 0.17589011956775\n",
      "log_amount: 0.17865966805089822\n",
      "log_oldbalanceOrg: 0.3021448430649724\n",
      "log_newbalanceOrig: 0.1508045030373736\n",
      "log_oldbalanceDest: 0.039951986028709564\n",
      "log_newbalanceDest: 0.06834215816848586\n"
     ]
    },
    {
     "data": {
      "image/png": "[encoded data removed]",
      "text/plain": [
       "<Figure size 1000x500 with 1 Axes>"
      ]
     },
     "metadata": {},
     "output_type": "display_data"
    }
   ],
   "source": [
    "importances = rf.feature_importances_\n",
    "\n",
    "for i in range(len(X.columns)):\n",
    "    print(f\"{X.columns[i]}: {importances[i]}\")\n",
    "\n",
    "plt.figure(figsize=(10, 5))\n",
    "plt.bar(X.columns, importances)\n",
    "plt.xticks(rotation=45)\n",
    "plt.title(\"Feature Importance\")\n",
    "plt.xlabel(\"Feature\")\n",
    "plt.ylabel(\"Importance\")\n",
    "plt.show()"
   ]
  },
  {
   "cell_type": "markdown",
   "id": "eRk7smEZAEzd",
   "metadata": {
    "id": "eRk7smEZAEzd"
   },
   "source": [
    "**Correlation** **Analysis**"
   ]
  },
  {
   "cell_type": "code",
   "execution_count": null,
   "id": "a07e31ff-4079-4807-b8c1-8bb0930c693c",
   "metadata": {
    "id": "a07e31ff-4079-4807-b8c1-8bb0930c693c",
    "outputId": "4cab74d0-6b64-48d0-cf48-7689b632a4c4"
   },
   "outputs": [
    {
     "name": "stdout",
     "output_type": "stream",
     "text": [
      "Correlation Matrix:\n",
      "                         step      type   isFraud  isFlaggedFraud  log_amount  \\\n",
      "step                1.000000  0.006635  0.031578        0.003277    0.005701   \n",
      "type                0.006635  1.000000  0.020833        0.002685   -0.388782   \n",
      "isFraud             0.031578  0.020833  1.000000        0.044109    0.037480   \n",
      "isFlaggedFraud      0.003277  0.002685  0.044109        1.000000    0.002858   \n",
      "log_amount          0.005701 -0.388782  0.037480        0.002858    1.000000   \n",
      "log_oldbalanceOrg   0.002022 -0.315225  0.034577        0.002211    0.043122   \n",
      "log_newbalanceOrig -0.007686 -0.372425 -0.028777        0.002495   -0.107090   \n",
      "log_oldbalanceDest -0.009298 -0.546068 -0.017286       -0.001815    0.620055   \n",
      "log_newbalanceDest -0.003116 -0.516950 -0.007657       -0.001980    0.692780   \n",
      "\n",
      "                    log_oldbalanceOrg  log_newbalanceOrig  log_oldbalanceDest  \\\n",
      "step                         0.002022           -0.007686           -0.009298   \n",
      "type                        -0.315225           -0.372425           -0.546068   \n",
      "isFraud                      0.034577           -0.028777           -0.017286   \n",
      "isFlaggedFraud               0.002211            0.002495           -0.001815   \n",
      "log_amount                   0.043122           -0.107090            0.620055   \n",
      "log_oldbalanceOrg            1.000000            0.754290            0.007404   \n",
      "log_newbalanceOrig           0.754290            1.000000            0.023986   \n",
      "log_oldbalanceDest           0.007404            0.023986            1.000000   \n",
      "log_newbalanceDest           0.026808           -0.101986            0.877067   \n",
      "\n",
      "                    log_newbalanceDest  \n",
      "step                         -0.003116  \n",
      "type                         -0.516950  \n",
      "isFraud                      -0.007657  \n",
      "isFlaggedFraud               -0.001980  \n",
      "log_amount                    0.692780  \n",
      "log_oldbalanceOrg             0.026808  \n",
      "log_newbalanceOrig           -0.101986  \n",
      "log_oldbalanceDest            0.877067  \n",
      "log_newbalanceDest            1.000000  \n",
      "Highly Correlated Features (threshold: 0.8):\n",
      "('log_oldbalanceDest', 'log_newbalanceDest') - 0.8770667961097685\n",
      "('log_newbalanceDest', 'log_oldbalanceDest') - 0.8770667961097685\n"
     ]
    }
   ],
   "source": [
    "correlation = df.corr()\n",
    "print(\"Correlation Matrix:\\n\", correlation)\n",
    "highly_correlated = correlation[(correlation >= 0.8) & (correlation != 1)]\n",
    "\n",
    "if highly_correlated.empty:\n",
    "    print(\"No highly correlated features found (threshold: 0.8).\")\n",
    "else:\n",
    "    print(\"Highly Correlated Features (threshold: 0.8):\")\n",
    "    for col1, col2 in highly_correlated.stack().items():\n",
    "        print(f\"{col1} - {col2}\")"
   ]
  },
  {
   "cell_type": "markdown",
   "id": "ftDtKPKlAMqI",
   "metadata": {
    "id": "ftDtKPKlAMqI"
   },
   "source": [
    "**Variance Inflation Factor (VIF) Calculation**"
   ]
  },
  {
   "cell_type": "code",
   "execution_count": null,
   "id": "640e0a58-4a6d-4c44-9645-a597ecb36cf5",
   "metadata": {
    "id": "640e0a58-4a6d-4c44-9645-a597ecb36cf5",
    "outputId": "4b4a4272-797a-4066-a7ca-dfd5f62d84f1"
   },
   "outputs": [
    {
     "name": "stdout",
     "output_type": "stream",
     "text": [
      "Highly Correlated Features (threshold: 0.8):\n",
      "('log_oldbalanceDest', 'log_newbalanceDest') - 0.8770667961097685\n",
      "('log_newbalanceDest', 'log_oldbalanceDest') - 0.8770667961097685\n",
      "VIF:\n",
      "              variable       VIF\n",
      "0  log_oldbalanceDest  9.971485\n",
      "1  log_newbalanceDest  9.971485\n"
     ]
    }
   ],
   "source": [
    "correlation = df.corr()\n",
    "\n",
    "highly_correlated = correlation[(correlation >= 0.8) & (correlation != 1)]\n",
    "\n",
    "if highly_correlated.empty:\n",
    "    print(\"No highly correlated features found (threshold: 0.8).\")\n",
    "else:\n",
    "    print(\"Highly Correlated Features (threshold: 0.8):\")\n",
    "    for col1, col2 in highly_correlated.stack().items():\n",
    "        print(f\"{col1} - {col2}\")\n",
    "\n",
    "def calculate_vif(X):\n",
    "    vif = pd.DataFrame()\n",
    "    vif[\"variable\"] = X.columns\n",
    "    vif[\"VIF\"] = [variance_inflation_factor(X.values, i) for i in range(X.shape[1])]\n",
    "    return vif\n",
    "\n",
    "vif = calculate_vif(df[['log_oldbalanceDest', 'log_newbalanceDest']])\n",
    "print(\"VIF:\\n\", vif)\n"
   ]
  },
  {
   "cell_type": "code",
   "execution_count": null,
   "id": "2dc0409e-4dbd-4b82-8902-e9e0824dbd96",
   "metadata": {
    "id": "2dc0409e-4dbd-4b82-8902-e9e0824dbd96",
    "outputId": "e0dc9f91-7358-4311-b8e9-3bc1bde9a5b0"
   },
   "outputs": [
    {
     "name": "stdout",
     "output_type": "stream",
     "text": [
      "Correlation of log_oldbalanceDest with target: -0.017286144017123577\n",
      "Correlation of log_newbalanceDest with target: -0.007656571981853159\n"
     ]
    }
   ],
   "source": [
    "correlation_oldbalance = df['log_oldbalanceDest'].corr(df['isFraud'])\n",
    "correlation_newbalance = df['log_newbalanceDest'].corr(df['isFraud'])\n",
    "\n",
    "print(f\"Correlation of log_oldbalanceDest with target: {correlation_oldbalance}\")\n",
    "print(f\"Correlation of log_newbalanceDest with target: {correlation_newbalance}\")"
   ]
  },
  {
   "cell_type": "code",
   "execution_count": null,
   "id": "fa1ec9fe-1ca5-43b6-bf37-546e0b6cf049",
   "metadata": {
    "id": "fa1ec9fe-1ca5-43b6-bf37-546e0b6cf049"
   },
   "outputs": [],
   "source": [
    "sm = SMOTE(random_state=42)\n",
    "X_train, y_trains = sm.fit_resample(X_train, y_train)\n",
    "print(f\"Before SMOTE: {y_train.value_counts()}\")\n",
    "print(f\"After SMOTE: {y_train_res.value_counts()}\")"
   ]
  },
  {
   "cell_type": "code",
   "execution_count": null,
   "id": "63733800-13eb-4054-969c-632a4e111951",
   "metadata": {
    "id": "63733800-13eb-4054-969c-632a4e111951"
   },
   "outputs": [],
   "source": [
    "df.drop(columns=['log_oldbalanceDest'],axis=1, inplace=True)"
   ]
  },
  {
   "cell_type": "code",
   "execution_count": null,
   "id": "a50ae89b-13e6-4318-9764-c304cef0f9d1",
   "metadata": {
    "id": "a50ae89b-13e6-4318-9764-c304cef0f9d1",
    "outputId": "cd41de2a-0d6e-4d68-e513-0e353f111233"
   },
   "outputs": [
    {
     "name": "stdout",
     "output_type": "stream",
     "text": [
      "       step      type  log_amount  log_oldbalanceOrg  log_newbalanceOrig\n",
      "0 -1.703042  0.952399   -0.932794           0.817700            1.046831\n",
      "1 -1.703042  0.952399   -1.872904           0.450507            0.712849\n",
      "2 -1.703042  1.693076   -2.676099          -0.389717           -0.847946\n",
      "3 -1.703042 -0.528954   -2.676099          -0.389717           -0.847946\n",
      "4 -1.703042  0.952399   -0.836456           0.568888            0.781287\n"
     ]
    }
   ],
   "source": [
    "features_to_scale = ['step', 'type', 'log_amount', 'log_oldbalanceOrg', 'log_newbalanceOrig']\n",
    "\n",
    "scaler = StandardScaler()\n",
    "scaled_features = scaler.fit_transform(df[features_to_scale])\n",
    "df_scaled = pd.DataFrame(scaled_features, columns=features_to_scale)\n",
    "print(df_scaled.head())"
   ]
  },
  {
   "cell_type": "code",
   "execution_count": null,
   "id": "9f3d5512-503b-4902-8e8f-f6694da47c9a",
   "metadata": {
    "id": "9f3d5512-503b-4902-8e8f-f6694da47c9a"
   },
   "outputs": [],
   "source": [
    "X = df[['step', 'type', 'log_amount', 'log_oldbalanceOrg', 'log_newbalanceOrig']]\n",
    "y = df['isFraud']\n",
    "\n",
    "X_train, X_test, y_train, y_test = train_test_split(X, y, test_size=0.2, random_state=42)"
   ]
  },
  {
   "cell_type": "code",
   "execution_count": null,
   "id": "536b6fc9-ccc0-411b-b39c-e3dc229fa244",
   "metadata": {
    "id": "536b6fc9-ccc0-411b-b39c-e3dc229fa244"
   },
   "outputs": [],
   "source": [
    "sc = StandardScaler()\n",
    "X_train = sc.fit_transform(X_train)\n",
    "X_test = sc.transform(X_test)"
   ]
  },
  {
   "cell_type": "code",
   "execution_count": null,
   "id": "169d14d0-ba80-4f75-b54e-c105068ab75c",
   "metadata": {
    "id": "169d14d0-ba80-4f75-b54e-c105068ab75c"
   },
   "outputs": [],
   "source": [
    "best_params = {\n",
    "    'n_estimators': 100,\n",
    "    'min_samples_split': 2,\n",
    "    'min_samples_leaf': 4,\n",
    "    'max_features': 'sqrt',\n",
    "    'max_depth': 20,\n",
    "    'bootstrap': True\n",
    "}\n",
    "\n",
    "rf_classifier = RandomForestClassifier(**best_params)\n"
   ]
  },
  {
   "cell_type": "code",
   "execution_count": null,
   "id": "a107aced-42be-40b0-bc58-c809a6400cd3",
   "metadata": {
    "id": "a107aced-42be-40b0-bc58-c809a6400cd3",
    "outputId": "3bed9c6a-a49d-4bde-bbfc-f600c747e914"
   },
   "outputs": [
    {
     "data": {
      "text/html": [
       "<style>#sk-container-id-1 {color: black;background-color: white;}#sk-container-id-1 pre{padding: 0;}#sk-container-id-1 div.sk-toggleable {background-color: white;}#sk-container-id-1 label.sk-toggleable__label {cursor: pointer;display: block;width: 100%;margin-bottom: 0;padding: 0.3em;box-sizing: border-box;text-align: center;}#sk-container-id-1 label.sk-toggleable__label-arrow:before {content: \"▸\";float: left;margin-right: 0.25em;color: #696969;}#sk-container-id-1 label.sk-toggleable__label-arrow:hover:before {color: black;}#sk-container-id-1 div.sk-estimator:hover label.sk-toggleable__label-arrow:before {color: black;}#sk-container-id-1 div.sk-toggleable__content {max-height: 0;max-width: 0;overflow: hidden;text-align: left;background-color: #f0f8ff;}#sk-container-id-1 div.sk-toggleable__content pre {margin: 0.2em;color: black;border-radius: 0.25em;background-color: #f0f8ff;}#sk-container-id-1 input.sk-toggleable__control:checked~div.sk-toggleable__content {max-height: 200px;max-width: 100%;overflow: auto;}#sk-container-id-1 input.sk-toggleable__control:checked~label.sk-toggleable__label-arrow:before {content: \"▾\";}#sk-container-id-1 div.sk-estimator input.sk-toggleable__control:checked~label.sk-toggleable__label {background-color: #d4ebff;}#sk-container-id-1 div.sk-label input.sk-toggleable__control:checked~label.sk-toggleable__label {background-color: #d4ebff;}#sk-container-id-1 input.sk-hidden--visually {border: 0;clip: rect(1px 1px 1px 1px);clip: rect(1px, 1px, 1px, 1px);height: 1px;margin: -1px;overflow: hidden;padding: 0;position: absolute;width: 1px;}#sk-container-id-1 div.sk-estimator {font-family: monospace;background-color: #f0f8ff;border: 1px dotted black;border-radius: 0.25em;box-sizing: border-box;margin-bottom: 0.5em;}#sk-container-id-1 div.sk-estimator:hover {background-color: #d4ebff;}#sk-container-id-1 div.sk-parallel-item::after {content: \"\";width: 100%;border-bottom: 1px solid gray;flex-grow: 1;}#sk-container-id-1 div.sk-label:hover label.sk-toggleable__label {background-color: #d4ebff;}#sk-container-id-1 div.sk-serial::before {content: \"\";position: absolute;border-left: 1px solid gray;box-sizing: border-box;top: 0;bottom: 0;left: 50%;z-index: 0;}#sk-container-id-1 div.sk-serial {display: flex;flex-direction: column;align-items: center;background-color: white;padding-right: 0.2em;padding-left: 0.2em;position: relative;}#sk-container-id-1 div.sk-item {position: relative;z-index: 1;}#sk-container-id-1 div.sk-parallel {display: flex;align-items: stretch;justify-content: center;background-color: white;position: relative;}#sk-container-id-1 div.sk-item::before, #sk-container-id-1 div.sk-parallel-item::before {content: \"\";position: absolute;border-left: 1px solid gray;box-sizing: border-box;top: 0;bottom: 0;left: 50%;z-index: -1;}#sk-container-id-1 div.sk-parallel-item {display: flex;flex-direction: column;z-index: 1;position: relative;background-color: white;}#sk-container-id-1 div.sk-parallel-item:first-child::after {align-self: flex-end;width: 50%;}#sk-container-id-1 div.sk-parallel-item:last-child::after {align-self: flex-start;width: 50%;}#sk-container-id-1 div.sk-parallel-item:only-child::after {width: 0;}#sk-container-id-1 div.sk-dashed-wrapped {border: 1px dashed gray;margin: 0 0.4em 0.5em 0.4em;box-sizing: border-box;padding-bottom: 0.4em;background-color: white;}#sk-container-id-1 div.sk-label label {font-family: monospace;font-weight: bold;display: inline-block;line-height: 1.2em;}#sk-container-id-1 div.sk-label-container {text-align: center;}#sk-container-id-1 div.sk-container {/* jupyter's `normalize.less` sets `[hidden] { display: none; }` but bootstrap.min.css set `[hidden] { display: none !important; }` so we also need the `!important` here to be able to override the default hidden behavior on the sphinx rendered scikit-learn.org. See: https://github.com/scikit-learn/scikit-learn/issues/21755 */display: inline-block !important;position: relative;}#sk-container-id-1 div.sk-text-repr-fallback {display: none;}</style><div id=\"sk-container-id-1\" class=\"sk-top-container\"><div class=\"sk-text-repr-fallback\"><pre>RandomForestClassifier(max_depth=20, min_samples_leaf=4)</pre><b>In a Jupyter environment, please rerun this cell to show the HTML representation or trust the notebook. <br />On GitHub, the HTML representation is unable to render, please try loading this page with nbviewer.org.</b></div><div class=\"sk-container\" hidden><div class=\"sk-item\"><div class=\"sk-estimator sk-toggleable\"><input class=\"sk-toggleable__control sk-hidden--visually\" id=\"sk-estimator-id-1\" type=\"checkbox\" checked><label for=\"sk-estimator-id-1\" class=\"sk-toggleable__label sk-toggleable__label-arrow\">RandomForestClassifier</label><div class=\"sk-toggleable__content\"><pre>RandomForestClassifier(max_depth=20, min_samples_leaf=4)</pre></div></div></div></div></div>"
      ],
      "text/plain": [
       "RandomForestClassifier(max_depth=20, min_samples_leaf=4)"
      ]
     },
     "execution_count": 32,
     "metadata": {},
     "output_type": "execute_result"
    }
   ],
   "source": [
    "rf_classifier.fit(X_train, y_train)"
   ]
  },
  {
   "cell_type": "code",
   "execution_count": null,
   "id": "24d4e888-84f6-44df-88b8-81ef6800ed53",
   "metadata": {
    "id": "24d4e888-84f6-44df-88b8-81ef6800ed53"
   },
   "outputs": [],
   "source": [
    "y_pred = rf_classifier.predict(X_test)"
   ]
  },
  {
   "cell_type": "code",
   "execution_count": null,
   "id": "a7f536a4-e9c0-421e-9dad-5a23024d808f",
   "metadata": {
    "id": "a7f536a4-e9c0-421e-9dad-5a23024d808f",
    "outputId": "e564a475-091b-4423-ffd8-89aade410391"
   },
   "outputs": [
    {
     "name": "stdout",
     "output_type": "stream",
     "text": [
      "              precision    recall  f1-score   support\n",
      "\n",
      "           0       1.00      1.00      1.00   1270904\n",
      "           1       0.94      0.72      0.82      1620\n",
      "\n",
      "    accuracy                           1.00   1272524\n",
      "   macro avg       0.97      0.86      0.91   1272524\n",
      "weighted avg       1.00      1.00      1.00   1272524\n",
      "\n",
      "AUC-ROC Score: 0.8595391815200969\n"
     ]
    }
   ],
   "source": [
    "print(classification_report(y_test, y_pred))\n",
    "print(\"AUC-ROC Score:\", roc_auc_score(y_test, y_pred))"
   ]
  },
  {
   "cell_type": "markdown",
   "id": "mkp8Sx-wAiAC",
   "metadata": {
    "id": "mkp8Sx-wAiAC"
   },
   "source": [
    "\n",
    "***Hyperparameter Tuning and Performance Evaluation of XGBoost for Fraud Detection***"
   ]
  },
  {
   "cell_type": "code",
   "execution_count": null,
   "id": "9dded846-ed14-46af-ad6a-16b1ef0c7dcc",
   "metadata": {
    "id": "9dded846-ed14-46af-ad6a-16b1ef0c7dcc"
   },
   "outputs": [],
   "source": [
    "param_dist = {\n",
    "    'n_estimators': [100, 200, 300, 500],\n",
    "    'max_depth': [3, 5, 7, 10],\n",
    "    'learning_rate': [0.01, 0.1, 0.2],\n",
    "    'subsample': [0.6, 0.8, 1.0],\n",
    "    'colsample_bytree': [0.6, 0.8, 1.0],\n",
    "    'scale_pos_weight': [1, 2, 5]  # Helps with class imbalance\n",
    "}"
   ]
  },
  {
   "cell_type": "code",
   "execution_count": null,
   "id": "8f9cde3c-d8d6-4e60-b8b4-3ec14ba2d2fb",
   "metadata": {
    "id": "8f9cde3c-d8d6-4e60-b8b4-3ec14ba2d2fb"
   },
   "outputs": [],
   "source": [
    "xgb = XGBClassifier(use_label_encoder=False, eval_metric='mlogloss')"
   ]
  },
  {
   "cell_type": "code",
   "execution_count": null,
   "id": "c0e0fa04-c1b1-448b-ab88-c1e77b0d4dce",
   "metadata": {
    "id": "c0e0fa04-c1b1-448b-ab88-c1e77b0d4dce"
   },
   "outputs": [],
   "source": [
    "random_search = RandomizedSearchCV(\n",
    "    estimator=xgb,\n",
    "    param_distributions=param_dist,\n",
    "    n_iter=50,\n",
    "    cv=3,\n",
    "    verbose=2,\n",
    "    random_state=42,\n",
    "    n_jobs=-1,\n",
    "    scoring='roc_auc'\n",
    ")"
   ]
  },
  {
   "cell_type": "code",
   "execution_count": null,
   "id": "f351aa2f-f4d2-4305-98d0-25776bd039d9",
   "metadata": {
    "id": "f351aa2f-f4d2-4305-98d0-25776bd039d9",
    "outputId": "331c1458-e2f5-4916-f19c-bc3aa81420ce"
   },
   "outputs": [
    {
     "name": "stdout",
     "output_type": "stream",
     "text": [
      "Fitting 3 folds for each of 50 candidates, totalling 150 fits\n"
     ]
    },
    {
     "name": "stderr",
     "output_type": "stream",
     "text": [
      "C:\\Users\\DELL\\anaconda3\\Lib\\site-packages\\xgboost\\core.py:158: UserWarning: [13:09:16] WARNING: D:\\bld\\xgboost-split_1724807710452\\work\\src\\learner.cc:740: \n",
      "Parameters: { \"use_label_encoder\" } are not used.\n",
      "\n",
      "  warnings.warn(smsg, UserWarning)\n"
     ]
    },
    {
     "data": {
      "text/html": [
       "<style>#sk-container-id-2 {color: black;background-color: white;}#sk-container-id-2 pre{padding: 0;}#sk-container-id-2 div.sk-toggleable {background-color: white;}#sk-container-id-2 label.sk-toggleable__label {cursor: pointer;display: block;width: 100%;margin-bottom: 0;padding: 0.3em;box-sizing: border-box;text-align: center;}#sk-container-id-2 label.sk-toggleable__label-arrow:before {content: \"▸\";float: left;margin-right: 0.25em;color: #696969;}#sk-container-id-2 label.sk-toggleable__label-arrow:hover:before {color: black;}#sk-container-id-2 div.sk-estimator:hover label.sk-toggleable__label-arrow:before {color: black;}#sk-container-id-2 div.sk-toggleable__content {max-height: 0;max-width: 0;overflow: hidden;text-align: left;background-color: #f0f8ff;}#sk-container-id-2 div.sk-toggleable__content pre {margin: 0.2em;color: black;border-radius: 0.25em;background-color: #f0f8ff;}#sk-container-id-2 input.sk-toggleable__control:checked~div.sk-toggleable__content {max-height: 200px;max-width: 100%;overflow: auto;}#sk-container-id-2 input.sk-toggleable__control:checked~label.sk-toggleable__label-arrow:before {content: \"▾\";}#sk-container-id-2 div.sk-estimator input.sk-toggleable__control:checked~label.sk-toggleable__label {background-color: #d4ebff;}#sk-container-id-2 div.sk-label input.sk-toggleable__control:checked~label.sk-toggleable__label {background-color: #d4ebff;}#sk-container-id-2 input.sk-hidden--visually {border: 0;clip: rect(1px 1px 1px 1px);clip: rect(1px, 1px, 1px, 1px);height: 1px;margin: -1px;overflow: hidden;padding: 0;position: absolute;width: 1px;}#sk-container-id-2 div.sk-estimator {font-family: monospace;background-color: #f0f8ff;border: 1px dotted black;border-radius: 0.25em;box-sizing: border-box;margin-bottom: 0.5em;}#sk-container-id-2 div.sk-estimator:hover {background-color: #d4ebff;}#sk-container-id-2 div.sk-parallel-item::after {content: \"\";width: 100%;border-bottom: 1px solid gray;flex-grow: 1;}#sk-container-id-2 div.sk-label:hover label.sk-toggleable__label {background-color: #d4ebff;}#sk-container-id-2 div.sk-serial::before {content: \"\";position: absolute;border-left: 1px solid gray;box-sizing: border-box;top: 0;bottom: 0;left: 50%;z-index: 0;}#sk-container-id-2 div.sk-serial {display: flex;flex-direction: column;align-items: center;background-color: white;padding-right: 0.2em;padding-left: 0.2em;position: relative;}#sk-container-id-2 div.sk-item {position: relative;z-index: 1;}#sk-container-id-2 div.sk-parallel {display: flex;align-items: stretch;justify-content: center;background-color: white;position: relative;}#sk-container-id-2 div.sk-item::before, #sk-container-id-2 div.sk-parallel-item::before {content: \"\";position: absolute;border-left: 1px solid gray;box-sizing: border-box;top: 0;bottom: 0;left: 50%;z-index: -1;}#sk-container-id-2 div.sk-parallel-item {display: flex;flex-direction: column;z-index: 1;position: relative;background-color: white;}#sk-container-id-2 div.sk-parallel-item:first-child::after {align-self: flex-end;width: 50%;}#sk-container-id-2 div.sk-parallel-item:last-child::after {align-self: flex-start;width: 50%;}#sk-container-id-2 div.sk-parallel-item:only-child::after {width: 0;}#sk-container-id-2 div.sk-dashed-wrapped {border: 1px dashed gray;margin: 0 0.4em 0.5em 0.4em;box-sizing: border-box;padding-bottom: 0.4em;background-color: white;}#sk-container-id-2 div.sk-label label {font-family: monospace;font-weight: bold;display: inline-block;line-height: 1.2em;}#sk-container-id-2 div.sk-label-container {text-align: center;}#sk-container-id-2 div.sk-container {/* jupyter's `normalize.less` sets `[hidden] { display: none; }` but bootstrap.min.css set `[hidden] { display: none !important; }` so we also need the `!important` here to be able to override the default hidden behavior on the sphinx rendered scikit-learn.org. See: https://github.com/scikit-learn/scikit-learn/issues/21755 */display: inline-block !important;position: relative;}#sk-container-id-2 div.sk-text-repr-fallback {display: none;}</style><div id=\"sk-container-id-2\" class=\"sk-top-container\"><div class=\"sk-text-repr-fallback\"><pre>RandomizedSearchCV(cv=3,\n",
       "                   estimator=XGBClassifier(base_score=None, booster=None,\n",
       "                                           callbacks=None,\n",
       "                                           colsample_bylevel=None,\n",
       "                                           colsample_bynode=None,\n",
       "                                           colsample_bytree=None, device=None,\n",
       "                                           early_stopping_rounds=None,\n",
       "                                           enable_categorical=False,\n",
       "                                           eval_metric=&#x27;mlogloss&#x27;,\n",
       "                                           feature_types=None, gamma=None,\n",
       "                                           grow_policy=None,\n",
       "                                           importance_type=None,\n",
       "                                           interaction_constraints=None,\n",
       "                                           learnin...\n",
       "                                           multi_strategy=None,\n",
       "                                           n_estimators=None, n_jobs=None,\n",
       "                                           num_parallel_tree=None,\n",
       "                                           random_state=None, ...),\n",
       "                   n_iter=50, n_jobs=-1,\n",
       "                   param_distributions={&#x27;colsample_bytree&#x27;: [0.6, 0.8, 1.0],\n",
       "                                        &#x27;learning_rate&#x27;: [0.01, 0.1, 0.2],\n",
       "                                        &#x27;max_depth&#x27;: [3, 5, 7, 10],\n",
       "                                        &#x27;n_estimators&#x27;: [100, 200, 300, 500],\n",
       "                                        &#x27;scale_pos_weight&#x27;: [1, 2, 5],\n",
       "                                        &#x27;subsample&#x27;: [0.6, 0.8, 1.0]},\n",
       "                   random_state=42, scoring=&#x27;roc_auc&#x27;, verbose=2)</pre><b>In a Jupyter environment, please rerun this cell to show the HTML representation or trust the notebook. <br />On GitHub, the HTML representation is unable to render, please try loading this page with nbviewer.org.</b></div><div class=\"sk-container\" hidden><div class=\"sk-item sk-dashed-wrapped\"><div class=\"sk-label-container\"><div class=\"sk-label sk-toggleable\"><input class=\"sk-toggleable__control sk-hidden--visually\" id=\"sk-estimator-id-2\" type=\"checkbox\" ><label for=\"sk-estimator-id-2\" class=\"sk-toggleable__label sk-toggleable__label-arrow\">RandomizedSearchCV</label><div class=\"sk-toggleable__content\"><pre>RandomizedSearchCV(cv=3,\n",
       "                   estimator=XGBClassifier(base_score=None, booster=None,\n",
       "                                           callbacks=None,\n",
       "                                           colsample_bylevel=None,\n",
       "                                           colsample_bynode=None,\n",
       "                                           colsample_bytree=None, device=None,\n",
       "                                           early_stopping_rounds=None,\n",
       "                                           enable_categorical=False,\n",
       "                                           eval_metric=&#x27;mlogloss&#x27;,\n",
       "                                           feature_types=None, gamma=None,\n",
       "                                           grow_policy=None,\n",
       "                                           importance_type=None,\n",
       "                                           interaction_constraints=None,\n",
       "                                           learnin...\n",
       "                                           multi_strategy=None,\n",
       "                                           n_estimators=None, n_jobs=None,\n",
       "                                           num_parallel_tree=None,\n",
       "                                           random_state=None, ...),\n",
       "                   n_iter=50, n_jobs=-1,\n",
       "                   param_distributions={&#x27;colsample_bytree&#x27;: [0.6, 0.8, 1.0],\n",
       "                                        &#x27;learning_rate&#x27;: [0.01, 0.1, 0.2],\n",
       "                                        &#x27;max_depth&#x27;: [3, 5, 7, 10],\n",
       "                                        &#x27;n_estimators&#x27;: [100, 200, 300, 500],\n",
       "                                        &#x27;scale_pos_weight&#x27;: [1, 2, 5],\n",
       "                                        &#x27;subsample&#x27;: [0.6, 0.8, 1.0]},\n",
       "                   random_state=42, scoring=&#x27;roc_auc&#x27;, verbose=2)</pre></div></div></div><div class=\"sk-parallel\"><div class=\"sk-parallel-item\"><div class=\"sk-item\"><div class=\"sk-label-container\"><div class=\"sk-label sk-toggleable\"><input class=\"sk-toggleable__control sk-hidden--visually\" id=\"sk-estimator-id-3\" type=\"checkbox\" ><label for=\"sk-estimator-id-3\" class=\"sk-toggleable__label sk-toggleable__label-arrow\">estimator: XGBClassifier</label><div class=\"sk-toggleable__content\"><pre>XGBClassifier(base_score=None, booster=None, callbacks=None,\n",
       "              colsample_bylevel=None, colsample_bynode=None,\n",
       "              colsample_bytree=None, device=None, early_stopping_rounds=None,\n",
       "              enable_categorical=False, eval_metric=&#x27;mlogloss&#x27;,\n",
       "              feature_types=None, gamma=None, grow_policy=None,\n",
       "              importance_type=None, interaction_constraints=None,\n",
       "              learning_rate=None, max_bin=None, max_cat_threshold=None,\n",
       "              max_cat_to_onehot=None, max_delta_step=None, max_depth=None,\n",
       "              max_leaves=None, min_child_weight=None, missing=nan,\n",
       "              monotone_constraints=None, multi_strategy=None, n_estimators=None,\n",
       "              n_jobs=None, num_parallel_tree=None, random_state=None, ...)</pre></div></div></div><div class=\"sk-serial\"><div class=\"sk-item\"><div class=\"sk-estimator sk-toggleable\"><input class=\"sk-toggleable__control sk-hidden--visually\" id=\"sk-estimator-id-4\" type=\"checkbox\" ><label for=\"sk-estimator-id-4\" class=\"sk-toggleable__label sk-toggleable__label-arrow\">XGBClassifier</label><div class=\"sk-toggleable__content\"><pre>XGBClassifier(base_score=None, booster=None, callbacks=None,\n",
       "              colsample_bylevel=None, colsample_bynode=None,\n",
       "              colsample_bytree=None, device=None, early_stopping_rounds=None,\n",
       "              enable_categorical=False, eval_metric=&#x27;mlogloss&#x27;,\n",
       "              feature_types=None, gamma=None, grow_policy=None,\n",
       "              importance_type=None, interaction_constraints=None,\n",
       "              learning_rate=None, max_bin=None, max_cat_threshold=None,\n",
       "              max_cat_to_onehot=None, max_delta_step=None, max_depth=None,\n",
       "              max_leaves=None, min_child_weight=None, missing=nan,\n",
       "              monotone_constraints=None, multi_strategy=None, n_estimators=None,\n",
       "              n_jobs=None, num_parallel_tree=None, random_state=None, ...)</pre></div></div></div></div></div></div></div></div></div></div>"
      ],
      "text/plain": [
       "RandomizedSearchCV(cv=3,\n",
       "                   estimator=XGBClassifier(base_score=None, booster=None,\n",
       "                                           callbacks=None,\n",
       "                                           colsample_bylevel=None,\n",
       "                                           colsample_bynode=None,\n",
       "                                           colsample_bytree=None, device=None,\n",
       "                                           early_stopping_rounds=None,\n",
       "                                           enable_categorical=False,\n",
       "                                           eval_metric='mlogloss',\n",
       "                                           feature_types=None, gamma=None,\n",
       "                                           grow_policy=None,\n",
       "                                           importance_type=None,\n",
       "                                           interaction_constraints=None,\n",
       "                                           learnin...\n",
       "                                           multi_strategy=None,\n",
       "                                           n_estimators=None, n_jobs=None,\n",
       "                                           num_parallel_tree=None,\n",
       "                                           random_state=None, ...),\n",
       "                   n_iter=50, n_jobs=-1,\n",
       "                   param_distributions={'colsample_bytree': [0.6, 0.8, 1.0],\n",
       "                                        'learning_rate': [0.01, 0.1, 0.2],\n",
       "                                        'max_depth': [3, 5, 7, 10],\n",
       "                                        'n_estimators': [100, 200, 300, 500],\n",
       "                                        'scale_pos_weight': [1, 2, 5],\n",
       "                                        'subsample': [0.6, 0.8, 1.0]},\n",
       "                   random_state=42, scoring='roc_auc', verbose=2)"
      ]
     },
     "execution_count": 46,
     "metadata": {},
     "output_type": "execute_result"
    }
   ],
   "source": [
    "random_search.fit(X_train, y_train)"
   ]
  },
  {
   "cell_type": "code",
   "execution_count": null,
   "id": "69b5c9af-2dc0-4533-a5e2-7fb00b0a94a1",
   "metadata": {
    "id": "69b5c9af-2dc0-4533-a5e2-7fb00b0a94a1"
   },
   "outputs": [],
   "source": [
    "best_params = random_search.best_params_\n",
    "best_model = random_search.best_estimator_"
   ]
  },
  {
   "cell_type": "code",
   "execution_count": null,
   "id": "35072e6d-d46c-4dc0-80d1-f4cc0ae461a3",
   "metadata": {
    "id": "35072e6d-d46c-4dc0-80d1-f4cc0ae461a3"
   },
   "outputs": [],
   "source": [
    "y_pred = best_model.predict(X_test)"
   ]
  },
  {
   "cell_type": "code",
   "execution_count": null,
   "id": "aa951920-26a2-478b-aa7d-6bd068d0e881",
   "metadata": {
    "id": "aa951920-26a2-478b-aa7d-6bd068d0e881",
    "outputId": "c56911c9-c2f1-4c2e-f13c-9cc0ffae8b02"
   },
   "outputs": [
    {
     "name": "stdout",
     "output_type": "stream",
     "text": [
      "Best Parameters: {'subsample': 1.0, 'scale_pos_weight': 5, 'n_estimators': 500, 'max_depth': 3, 'learning_rate': 0.2, 'colsample_bytree': 0.8}\n",
      "Accuracy: 0.9996078659420176\n",
      "Precision: 0.7960908610670893\n",
      "Recall: 0.9302469135802469\n",
      "F1-score: 0.8579561628237974\n",
      "AUC-ROC: 0.964971596382099\n"
     ]
    }
   ],
   "source": [
    "accuracy = accuracy_score(y_test, y_pred)\n",
    "precision = precision_score(y_test, y_pred)\n",
    "recall = recall_score(y_test, y_pred)\n",
    "f1 = f1_score(y_test, y_pred)\n",
    "auc_roc = roc_auc_score(y_test, y_pred)\n",
    "\n",
    "print(\"Best Parameters:\", best_params)\n",
    "print(\"Accuracy:\", accuracy)\n",
    "print(\"Precision:\", precision)\n",
    "print(\"Recall:\", recall)\n",
    "print(\"F1-score:\", f1)\n",
    "print(\"AUC-ROC:\", auc_roc)"
   ]
  }
 ],
 "metadata": {
  "colab": {
   "provenance": []
  },
  "kernelspec": {
   "display_name": "Python 3 (ipykernel)",
   "language": "python",
   "name": "python3"
  },
  "language_info": {
   "codemirror_mode": {
    "name": "ipython",
    "version": 3
   },
   "file_extension": ".py",
   "mimetype": "text/x-python",
   "name": "python",
   "nbconvert_exporter": "python",
   "pygments_lexer": "ipython3",
   "version": "3.11.7"
  }
 },
 "nbformat": 4,
 "nbformat_minor": 5
}
